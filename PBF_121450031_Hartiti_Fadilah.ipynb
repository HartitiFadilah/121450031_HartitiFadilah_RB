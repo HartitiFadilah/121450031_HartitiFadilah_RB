{
  "nbformat": 4,
  "nbformat_minor": 0,
  "metadata": {
    "colab": {
      "provenance": [],
      "toc_visible": true,
      "authorship_tag": "ABX9TyOiAjbLOGVHaG9B9GeUwatN",
      "include_colab_link": true
    },
    "kernelspec": {
      "name": "python3",
      "display_name": "Python 3"
    },
    "language_info": {
      "name": "python"
    }
  },
  "cells": [
    {
      "cell_type": "markdown",
      "metadata": {
        "id": "view-in-github",
        "colab_type": "text"
      },
      "source": [
        "<a href=\"https://colab.research.google.com/github/HartitiFadilah/121450031_HartitiFadilah_RB/blob/main/PBF_121450031_Hartiti_Fadilah.ipynb\" target=\"_parent\"><img src=\"https://colab.research.google.com/assets/colab-badge.svg\" alt=\"Open In Colab\"/></a>"
      ]
    },
    {
      "cell_type": "markdown",
      "source": [
        "# Nama : Hartiti Fadilah\n",
        "# NIM : 121450031\n",
        "# Prodi : Sains Data"
      ],
      "metadata": {
        "id": "fj-PrL5NbqFF"
      }
    },
    {
      "cell_type": "markdown",
      "source": [
        "6. Membuat program Simple Password encryption, dengan ketentuan : \n",
        "\n",
        "\n",
        "1.   Input password bertipe string dengan batasan panjang \n",
        "password 100 karakter\n",
        "2.   Setiap karakter dari string tersebut diubah menjadi ASCII value value dengan dilakukan operasi berikut:\n",
        "3.   Kemudian setiap ASCII value tersebut dikembangkan menjadi 3 value dengan dilakukan operasi berikut:\n",
        "*   Value pertama dibagi dengan integer 26 kemudian dibulatkan dan dijumlahkan dengan 80 kemudian diubah kembali menjadi karakter\n",
        "*   Value kedua dihitung sisa bagi dengan 26 kemudian\n",
        "dijumlahkan dengan 80 kemudian diubah kembali menjadi\n",
        "karakter\n",
        "*   Value ketiga adalah karakter ‘+’ jika value pertama lebih\n",
        "besar dari value kedua, atau value ketiga adalah karakter ‘-’\n",
        "jika value pertama tidak lebih besar dari value kedua\n",
        "Deretkan value pertama, kedua dan ketiga untuk setiap \n",
        "4.   karakter dalam password tersebut sehingga didapatkan password dalam bentuk baru"
      ],
      "metadata": {
        "id": "0WzFhSfvb6LT"
      }
    },
    {
      "cell_type": "code",
      "source": [
        "# fungsi enkripsi\n",
        "def enkripsi(password):\n",
        "  # jika panjang karakter lebih dari 100\n",
        "  if len(password) > 100 or len(password) == 0:\n",
        "    print(\"Enter 1-100 characters\")\n",
        "  else:\n",
        "    # merubah setiap karakter menjadi kode ascii dan ditampung dalam list\n",
        "    ascii = [str(ord(i)) for i in password]\n",
        "    # membuat 3 value dari setiap kode ascii dan menggabungkan semuanya\n",
        "    enkri = ''.join(chr((int(j)//26)+80)+chr((int(j)%26)+80)+('+' if (int(j)//26)+80 > (int(j)%26)+80 else '-') for j in ascii)\n",
        "    # menampilkan hasil enkripsi\n",
        "    print(\"The encryption password is: \", enkri)\n",
        "\n",
        "# fungsi dekripsi\n",
        "def dekripsi(password):\n",
        "  # split 3 value \n",
        "  split_ps = [(password[k:k+3]) for k in range(0, len(password), 3)]\n",
        "  # membuat 3 value kembali ke kode ascii lalu ke karakter asli dan menggabungkan semuanya\n",
        "  dekri = ''.join(chr(((ord(list(z)[0])-80)*26)+(ord(list(z)[1])-80)) for z in split_ps)\n",
        "  # menampilkan hasil dekripsi\n",
        "  print(\"The password is: \", dekri)\n"
      ],
      "metadata": {
        "id": "eZlbii7EpAcn"
      },
      "execution_count": 4,
      "outputs": []
    },
    {
      "cell_type": "code",
      "source": [
        "# enkripsi\n",
        "password = input(\"Enter Password: \")\n",
        "enkripsi(password)"
      ],
      "metadata": {
        "id": "7zzoKdLYlsSC"
      },
      "execution_count": null,
      "outputs": []
    }
  ]
}